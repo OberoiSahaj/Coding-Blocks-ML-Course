{
 "cells": [
  {
   "cell_type": "code",
   "execution_count": 1,
   "metadata": {},
   "outputs": [],
   "source": [
    "import numpy as np\n",
    "import pandas as pd\n",
    "import matplotlib.pyplot as plt\n",
    "from sklearn.datasets import make_blobs"
   ]
  },
  {
   "cell_type": "code",
   "execution_count": 2,
   "metadata": {},
   "outputs": [],
   "source": [
    "X, y= make_blobs(1000, centers=2, random_state=42)"
   ]
  },
  {
   "cell_type": "code",
   "execution_count": 5,
   "metadata": {},
   "outputs": [
    {
     "data": {
      "text/plain": [
       "<matplotlib.collections.PathCollection at 0x2c6d18da5c0>"
      ]
     },
     "execution_count": 5,
     "metadata": {},
     "output_type": "execute_result"
    },
    {
     "data": {
      "image/png": "[encoded data removed]",
      "text/plain": [
       "<Figure size 432x288 with 1 Axes>"
      ]
     },
     "metadata": {
      "needs_background": "light"
     },
     "output_type": "display_data"
    }
   ],
   "source": [
    "plt.scatter(X[:,0],X[:,1])"
   ]
  },
  {
   "cell_type": "code",
   "execution_count": 6,
   "metadata": {},
   "outputs": [],
   "source": [
    "class KMeans:\n",
    "    def __init__(self,k):\n",
    "        self.k = k\n",
    "        self.X = None\n",
    "        self.centers = None\n",
    "\n",
    "    def fit(self, X):\n",
    "        self.X= X\n",
    "        self.clusters = []\n",
    "        for index in range(self.k):\n",
    "            cluster = Cluster(X[index])\n",
    "            self.clusters.append(cluster)\n",
    "        for _ in range(5):\n",
    "            for point in self.X:\n",
    "                distances = []\n",
    "                for clusters in self.clusters:\n",
    "                    dis = cluster.distance(point)\n",
    "                    distances.append((dis,cluster))\n",
    "                distances = sorted(distances)\n",
    "                chosen = distances[0][1]\n",
    "                chosen.points.append(point)\n",
    "class Cluster:\n",
    "    def __init__(self, center):\n",
    "        self.center = center\n",
    "        self.points = []\n",
    "    def update_center(self):\n",
    "        points = np.array(self.points)\n",
    "        self.center = np.mean(points, axis = 0)\n",
    "        self.points = []\n",
    "    \n",
    "    def distance(self,point):\n",
    "        return np.sum((self.center - point)**2)\n",
    "    "
   ]
  },
  {
   "cell_type": "code",
   "execution_count": 7,
   "metadata": {},
   "outputs": [],
   "source": [
    "model = KMeans(4)"
   ]
  },
  {
   "cell_type": "code",
   "execution_count": 8,
   "metadata": {},
   "outputs": [],
   "source": [
    "model.fit(X)"
   ]
  },
  {
   "cell_type": "code",
   "execution_count": 9,
   "metadata": {},
   "outputs": [
    {
     "name": "stdout",
     "output_type": "stream",
     "text": [
      "[-1.67350551  7.88457927]\n",
      "[6.31757965 1.41958144]\n",
      "[3.54360375 0.5331188 ]\n",
      "[5.16271432 1.39946968]\n"
     ]
    }
   ],
   "source": [
    "for cluster in model.clusters:\n",
    "    print(cluster.center)"
   ]
  },
  {
   "cell_type": "code",
   "execution_count": null,
   "metadata": {},
   "outputs": [],
   "source": []
  }
 ],
 "metadata": {
  "kernelspec": {
   "display_name": "Python 3",
   "language": "python",
   "name": "python3"
  },
  "language_info": {
   "codemirror_mode": {
    "name": "ipython",
    "version": 3
   },
   "file_extension": ".py",
   "mimetype": "text/x-python",
   "name": "python",
   "nbconvert_exporter": "python",
   "pygments_lexer": "ipython3",
   "version": "3.7.0"
  }
 },
 "nbformat": 4,
 "nbformat_minor": 2
}
