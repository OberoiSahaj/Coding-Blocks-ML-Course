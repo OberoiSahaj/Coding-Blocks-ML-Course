{
 "cells": [
  {
   "cell_type": "code",
   "execution_count": 3,
   "metadata": {},
   "outputs": [],
   "source": [
    "import numpy as np\n",
    "import pandas as pd\n",
    "import matplotlib.pyplot as plt\n",
    "from sklearn.datasets import make_regression"
   ]
  },
  {
   "cell_type": "code",
   "execution_count": 22,
   "metadata": {},
   "outputs": [],
   "source": [
    "bias = 100\n",
    "X, y, coef = make_regression(100, n_features=5,bias=bias, random_state=42,coef=True)"
   ]
  },
  {
   "cell_type": "code",
   "execution_count": 24,
   "metadata": {},
   "outputs": [
    {
     "data": {
      "text/plain": [
       "array([100.        ,  64.59172413,  98.65152488,  57.07783047,\n",
       "        60.57748194,  35.60967259])"
      ]
     },
     "execution_count": 24,
     "metadata": {},
     "output_type": "execute_result"
    }
   ],
   "source": [
    "expected_theta = np.hstack([[bias],coef])\n",
    "expected_theta"
   ]
  },
  {
   "cell_type": "code",
   "execution_count": 25,
   "metadata": {},
   "outputs": [
    {
     "data": {
      "text/plain": [
       "array([[ 1.        , -0.93782504,  0.51504769,  0.51503527,  3.85273149,\n",
       "         0.51378595],\n",
       "       [ 1.        ,  1.0889506 , -0.71530371,  0.06428002,  0.67959775,\n",
       "        -1.07774478],\n",
       "       [ 1.        , -0.60170661, -1.05771093,  1.85227818,  0.82254491,\n",
       "        -0.01349722],\n",
       "       [ 1.        ,  0.8219025 ,  0.09176078,  0.08704707, -1.98756891,\n",
       "        -0.29900735],\n",
       "       [ 1.        ,  1.54993441,  0.81351722, -0.78325329, -1.23086432,\n",
       "        -0.32206152],\n",
       "       [ 1.        , -0.00797264, -0.8612842 ,  1.47994414,  1.52312408,\n",
       "         0.07736831],\n",
       "       [ 1.        , -0.89841467,  1.83145877,  0.49191917,  1.17944012,\n",
       "        -1.32023321],\n",
       "       [ 1.        , -0.71435142, -1.1913035 ,  1.86577451,  0.65655361,\n",
       "         0.47383292],\n",
       "       [ 1.        , -1.55066343,  0.47359243,  0.06856297, -0.91942423,\n",
       "        -1.06230371],\n",
       "       [ 1.        ,  0.78182287,  0.52194157, -1.23695071,  0.29698467,\n",
       "        -1.32045661]])"
      ]
     },
     "execution_count": 25,
     "metadata": {},
     "output_type": "execute_result"
    }
   ],
   "source": [
    "X_update = np.hstack([np.ones((X.shape[0],1)),X])\n",
    "X_update[:10]"
   ]
  },
  {
   "cell_type": "code",
   "execution_count": 48,
   "metadata": {},
   "outputs": [],
   "source": [
    "class LinearRegression():\n",
    "    def __init__(self, lr = .001, iters = 1):\n",
    "    \n",
    "        self.lr = lr\n",
    "        self.iters = iters\n",
    "    \n",
    "    def fit(self, X, y):\n",
    "    \n",
    "        self.X = X\n",
    "        self.y = y.reshape(-1,1)\n",
    "        self.theta = np.zeros((self.X.shape[1],1))\n",
    "        \n",
    "        errors = []\n",
    "        for i in range(self.iters):\n",
    "            self.gradient_dec()\n",
    "        return errors\n",
    "    \n",
    "    def gradient_dec(self):\n",
    "        d_theta = self.gradient()\n",
    "        self.theta -= d_theta * self.lr\n",
    "        \n",
    "    def gradient(self):\n",
    "        yh = LinearRegression.hypothesis(self.X, self.theta)\n",
    "        d_theta = np.mean((yh-self.y)* self.X, axis=0)\n",
    "        print(yh.shape)\n",
    "        return d_theta.reshape(-1,1)\n",
    "    def predict(self, X):\n",
    "        return LinearRegression.hypothesis(X, self.theta).flatten()\n",
    "    def error(self):\n",
    "        yh = LinearRegression.hypothesis(self.X, self.theta)\n",
    "    \n",
    "    @classmethod\n",
    "    def hypothesis(cls, X, theta):\n",
    "        return np.dot(X, theta)"
   ]
  },
  {
   "cell_type": "code",
   "execution_count": 32,
   "metadata": {},
   "outputs": [],
   "source": [
    "# yh = np.dot(X_update, expected_theta.reshape(-1,1))\n",
    "# print(yh[:10])\n",
    "# print(y[:10])"
   ]
  },
  {
   "cell_type": "code",
   "execution_count": 49,
   "metadata": {},
   "outputs": [
    {
     "name": "stdout",
     "output_type": "stream",
     "text": [
      "(100, 1)\n"
     ]
    },
    {
     "data": {
      "text/plain": [
       "[]"
      ]
     },
     "execution_count": 49,
     "metadata": {},
     "output_type": "execute_result"
    }
   ],
   "source": [
    "model = LinearRegression()\n",
    "model.fit(X_update,y)"
   ]
  },
  {
   "cell_type": "code",
   "execution_count": 51,
   "metadata": {},
   "outputs": [
    {
     "name": "stdout",
     "output_type": "stream",
     "text": [
      "[0.4396331  0.07109634 0.16000997 0.00449848 0.08686993]\n",
      "[371.31612081 106.2305406  111.86102446  36.05942429 149.63008485]\n"
     ]
    }
   ],
   "source": [
    "yh = model.predict(X_update[:5])\n",
    "print(yh)\n",
    "print(y[:5])"
   ]
  },
  {
   "cell_type": "markdown",
   "metadata": {},
   "source": [
    "# Logistic Regression"
   ]
  },
  {
   "cell_type": "code",
   "execution_count": 58,
   "metadata": {},
   "outputs": [],
   "source": [
    "import numpy as np\n",
    "import pandas as pd\n",
    "import matplotlib.pyplot as plt\n",
    "from sklearn.datasets import make_blobs\n",
    "from sklearn.linear_model import LogisticRegression"
   ]
  },
  {
   "cell_type": "code",
   "execution_count": 59,
   "metadata": {},
   "outputs": [],
   "source": [
    "X, y = make_blobs(1000, centers= 2, random_state=42)"
   ]
  },
  {
   "cell_type": "code",
   "execution_count": 64,
   "metadata": {},
   "outputs": [
    {
     "data": {
      "text/plain": [
       "<matplotlib.collections.PathCollection at 0x1854ea7d470>"
      ]
     },
     "execution_count": 64,
     "metadata": {},
     "output_type": "execute_result"
    },
    {
     "data": {
      "image/png": "[encoded data removed]",
      "text/plain": [
       "<Figure size 432x288 with 1 Axes>"
      ]
     },
     "metadata": {
      "needs_background": "light"
     },
     "output_type": "display_data"
    }
   ],
   "source": [
    "plt.scatter(X[:,0], X[:,1], c=y, s =15)"
   ]
  },
  {
   "cell_type": "code",
   "execution_count": 65,
   "metadata": {},
   "outputs": [
    {
     "name": "stderr",
     "output_type": "stream",
     "text": [
      "c:\\users\\sahaj oberoi\\appdata\\local\\programs\\python\\python37\\lib\\site-packages\\sklearn\\linear_model\\logistic.py:432: FutureWarning: Default solver will be changed to 'lbfgs' in 0.22. Specify a solver to silence this warning.\n",
      "  FutureWarning)\n"
     ]
    },
    {
     "data": {
      "text/plain": [
       "LogisticRegression(C=1.0, class_weight=None, dual=False, fit_intercept=True,\n",
       "                   intercept_scaling=1, l1_ratio=None, max_iter=100,\n",
       "                   multi_class='warn', n_jobs=None, penalty='l2',\n",
       "                   random_state=None, solver='warn', tol=0.0001, verbose=0,\n",
       "                   warm_start=False)"
      ]
     },
     "execution_count": 65,
     "metadata": {},
     "output_type": "execute_result"
    }
   ],
   "source": [
    "model = LogisticRegression()\n",
    "model.fit(X,y)"
   ]
  },
  {
   "cell_type": "code",
   "execution_count": 66,
   "metadata": {},
   "outputs": [
    {
     "name": "stdout",
     "output_type": "stream",
     "text": [
      "[0.36449678]\n",
      "[[ 2.0280732  -0.53391258]]\n"
     ]
    }
   ],
   "source": [
    "print(model.intercept_)\n",
    "print(model.coef_)"
   ]
  },
  {
   "cell_type": "code",
   "execution_count": 73,
   "metadata": {},
   "outputs": [],
   "source": [
    "theta = model.coef_\n",
    "slope = -theta[0][0] / theta[0][1] \n",
    "intercept = -model.intercept_ / theta[0][1]"
   ]
  },
  {
   "cell_type": "code",
   "execution_count": 74,
   "metadata": {},
   "outputs": [],
   "source": [
    "x1 = X[:,0]\n",
    "x2 = x1 * slope + intercept"
   ]
  },
  {
   "cell_type": "code",
   "execution_count": 78,
   "metadata": {},
   "outputs": [
    {
     "data": {
      "text/plain": [
       "[<matplotlib.lines.Line2D at 0x1854abe3e48>]"
      ]
     },
     "execution_count": 78,
     "metadata": {},
     "output_type": "execute_result"
    },
    {
     "data": {
      "image/png": "[encoded data removed]",
      "text/plain": [
       "<Figure size 432x288 with 1 Axes>"
      ]
     },
     "metadata": {
      "needs_background": "light"
     },
     "output_type": "display_data"
    }
   ],
   "source": [
    "plt.scatter(X[:,0], X[:,1], c=y)\n",
    "plt.plot(x1,x2)"
   ]
  },
  {
   "cell_type": "code",
   "execution_count": null,
   "metadata": {},
   "outputs": [],
   "source": []
  }
 ],
 "metadata": {
  "kernelspec": {
   "display_name": "Python 3",
   "language": "python",
   "name": "python3"
  },
  "language_info": {
   "codemirror_mode": {
    "name": "ipython",
    "version": 3
   },
   "file_extension": ".py",
   "mimetype": "text/x-python",
   "name": "python",
   "nbconvert_exporter": "python",
   "pygments_lexer": "ipython3",
   "version": "3.7.0"
  }
 },
 "nbformat": 4,
 "nbformat_minor": 2
}
